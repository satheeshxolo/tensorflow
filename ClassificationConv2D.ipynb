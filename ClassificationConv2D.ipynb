{
  "nbformat": 4,
  "nbformat_minor": 0,
  "metadata": {
    "colab": {
      "name": "ClassificationConv2D.ipynb",
      "version": "0.3.2",
      "provenance": [],
      "collapsed_sections": [],
      "include_colab_link": true
    },
    "language_info": {
      "codemirror_mode": {
        "name": "ipython",
        "version": 3
      },
      "file_extension": ".py",
      "mimetype": "text/x-python",
      "name": "python",
      "nbconvert_exporter": "python",
      "pygments_lexer": "ipython3",
      "version": "3.7.3"
    },
    "kernelspec": {
      "display_name": "Python 3",
      "language": "python",
      "name": "python3"
    },
    "accelerator": "GPU"
  },
  "cells": [
    {
      "cell_type": "markdown",
      "metadata": {
        "id": "view-in-github",
        "colab_type": "text"
      },
      "source": [
        "<a href=\"https://colab.research.google.com/github/satheeshxolo/tensorflow/blob/master/ClassificationConv2D.ipynb\" target=\"_parent\"><img src=\"https://colab.research.google.com/assets/colab-badge.svg\" alt=\"Open In Colab\"/></a>"
      ]
    },
    {
      "cell_type": "code",
      "metadata": {
        "id": "GxHm9xMN_Mrv",
        "colab_type": "code",
        "outputId": "692df2f3-f810-4fed-8a34-3893e1574a65",
        "colab": {
          "base_uri": "https://localhost:8080/",
          "height": 34
        }
      },
      "source": [
        "# Load the Drive helper and mount\n",
        "from google.colab import drive\n",
        "drive.mount('/content/drive')\n"
      ],
      "execution_count": 0,
      "outputs": [
        {
          "output_type": "stream",
          "text": [
            "Drive already mounted at /content/drive; to attempt to forcibly remount, call drive.mount(\"/content/drive\", force_remount=True).\n"
          ],
          "name": "stdout"
        }
      ]
    },
    {
      "cell_type": "code",
      "metadata": {
        "id": "zgDia5NuVVLb",
        "colab_type": "code",
        "outputId": "231fbe1d-4728-44a9-df4a-bcfe972f6187",
        "colab": {
          "base_uri": "https://localhost:8080/",
          "height": 52
        }
      },
      "source": [
        "!unzip /content/drive/'My Drive'/'Colab Notebooks'/competition_CNN.zip"
      ],
      "execution_count": 0,
      "outputs": [
        {
          "output_type": "stream",
          "text": [
            "Archive:  /content/drive/My Drive/Colab Notebooks/competition_CNN.zip\n",
            "replace competition_CNN/hindi/.ipynb_checkpoints/PyTorch Data Loader Code-checkpoint.ipynb? [y]es, [n]o, [A]ll, [N]one, [r]ename: N\n"
          ],
          "name": "stdout"
        }
      ]
    },
    {
      "cell_type": "code",
      "metadata": {
        "colab_type": "code",
        "id": "PeozigfFQ850",
        "colab": {}
      },
      "source": [
        "import os\n",
        "from PIL import Image\n",
        "import matplotlib.pyplot as plt\n",
        "\n",
        "import torch\n",
        "import torchvision\n",
        "from torch.utils.data import DataLoader, Dataset, random_split\n",
        "import torchvision.transforms as transforms\n",
        "\n",
        "#For converting the dataset to torchvision dataset format\n",
        "class VowelConsonantDataset(Dataset):\n",
        "    def __init__(self, file_path,train=True,transform=None):\n",
        "        print('__init__')\n",
        "        self.transform = transform\n",
        "        self.file_path=file_path\n",
        "        self.train=train\n",
        "        self.file_names=[file for _,_,files in os.walk(self.file_path) for file in files]\n",
        "        self.len = len(self.file_names)\n",
        "        print('Num files = ', self.len)\n",
        "        if self.train:\n",
        "            self.classes_mapping=self.get_classes()\n",
        "    def __len__(self):\n",
        "        return len(self.file_names)\n",
        "    \n",
        "    def __getitem__(self, index):\n",
        "        #used in iter() function over DataLoader()\n",
        "        file_name=self.file_names[index]\n",
        "        image_data=self.pil_loader(self.file_path+\"/\"+file_name)\n",
        "        if self.transform:\n",
        "            image_data = self.transform(image_data)\n",
        "        if self.train:\n",
        "            file_name_splitted=file_name.split(\"_\")\n",
        "            Y1 = self.classes_mapping[file_name_splitted[0]]\n",
        "            Y2 = self.classes_mapping[file_name_splitted[1]]\n",
        "            z1,z2=torch.zeros(10),torch.zeros(10)\n",
        "            z1[Y1-10],z2[Y2]=1,1\n",
        "            label=torch.stack([z1,z2])\n",
        "\n",
        "            return image_data, label\n",
        "\n",
        "        else:\n",
        "            return image_data, file_name\n",
        "          \n",
        "    def pil_loader(self,path):\n",
        "        with open(path, 'rb') as f:\n",
        "            img = Image.open(f)\n",
        "            return img.convert('RGB')\n",
        "\n",
        "      \n",
        "    def get_classes(self):\n",
        "        classes=[]\n",
        "        for name in self.file_names:\n",
        "            name_splitted=name.split(\"_\")\n",
        "            classes.extend([name_splitted[0],name_splitted[1]])\n",
        "        classes=list(set(classes))\n",
        "        classes_mapping={}\n",
        "        for i,cl in enumerate(sorted(classes)):\n",
        "            classes_mapping[cl]=i\n",
        "        print(classes_mapping)\n",
        "        return classes_mapping\n",
        "    "
      ],
      "execution_count": 0,
      "outputs": []
    },
    {
      "cell_type": "code",
      "metadata": {
        "colab_type": "code",
        "id": "rJJ_MrEVQ_eX",
        "colab": {}
      },
      "source": [
        "import torch\n",
        "import torch.nn as nn\n",
        "import torch.nn.functional as F\n",
        "import torch.optim as optim\n",
        "\n",
        "import torchvision\n",
        "import matplotlib.pyplot as plt\n",
        "from torchvision import datasets\n",
        "\n",
        "import torchvision.transforms as transforms\n",
        "\n",
        "import numpy as np\n",
        "import pandas as pd\n",
        "\n",
        "train_on_gpu = torch.cuda.is_available()"
      ],
      "execution_count": 0,
      "outputs": []
    },
    {
      "cell_type": "code",
      "metadata": {
        "colab_type": "code",
        "id": "S-BX7SIgS_bU",
        "colab": {}
      },
      "source": [
        ""
      ],
      "execution_count": 0,
      "outputs": []
    },
    {
      "cell_type": "code",
      "metadata": {
        "colab_type": "code",
        "id": "X2cOje6hS_yA",
        "scrolled": false,
        "outputId": "61f8c332-9745-4cf8-a8f6-1d4bf3f8402e",
        "colab": {
          "base_uri": "https://localhost:8080/",
          "height": 1105
        }
      },
      "source": [
        "%%time\n",
        "transform = transforms.Compose([\n",
        "    transforms.ToTensor(),\n",
        "    transforms.Normalize((0.5, 0.5, 0.5), (0.5, 0.5, 0.5)),\n",
        "])\n",
        "full_data = VowelConsonantDataset(\"./competition_CNN/hindi/input/train/train\",train=True,transform=transform)\n",
        "train_size = int(0.8 * len(full_data))\n",
        "test_size = len(full_data) - train_size\n",
        "print(train_size, test_size)\n",
        "h_batch_size = 50\n",
        "\n",
        "train_data, validation_data = random_split(full_data, [train_size, test_size])\n",
        "\n",
        "train_loader = torch.utils.data.DataLoader(train_data, batch_size=h_batch_size, shuffle=True)\n",
        "'''\n",
        "tr_dataiter = iter(train_loader)\n",
        "tr_images, tr_labels = tr_dataiter.next()\n",
        "\n",
        "print(tr_images.shape, tr_labels.shape)\n",
        "print(tr_images[1].shape, tr_labels[1].shape)\n",
        "#print(np.nonzero(tr_labels[1][0]),np.nonzero(tr_labels[1][1]))\n",
        "\n",
        "\n",
        "npimg = tr_images[1].numpy().reshape((64,64,3))\n",
        "#plt.figure(figsize = (1,1))\n",
        "#plt.imshow(npimg)\n",
        "plt.imshow(npimg)\n",
        "plt.show()\n",
        "'''\n",
        "validation_loader = torch.utils.data.DataLoader(validation_data, batch_size=h_batch_size, shuffle=True)\n",
        "\n",
        "class FFN_VC_Classifier(nn.Module):\n",
        "  \n",
        "  def __init__(self,p):\n",
        "    super().__init__()\n",
        "    torch.manual_seed(0)\n",
        "    self.net_common = nn.Sequential(\n",
        "        nn.Conv2d(3, 16, 9),\n",
        "        nn.Dropout(p=p),\n",
        "        nn.BatchNorm2d(num_features=16),\n",
        "        nn.ReLU(),\n",
        "        nn.MaxPool2d(2, stride=2),  # (N, 20, 56, 56) -> (N,  20, 28, 28)\n",
        "        #nn.Dropout(p=p),\n",
        "          \n",
        "        nn.Conv2d(16, 8, 9, padding=(4,4)),\n",
        "        nn.Dropout(p=p),\n",
        "        nn.BatchNorm2d(num_features=8),\n",
        "        nn.ReLU(),\n",
        "        #nn.Conv2d(8, 8, 3, padding=(1,1)),\n",
        "        #nn.Dropout(p=p),\n",
        "        #nn.BatchNorm2d(num_features=8),\n",
        "        #nn.ReLU(),\n",
        "        nn.MaxPool2d(2, stride=2),\n",
        "        #nn.Dropout(p=p)\n",
        "    )\n",
        "    self.br1 = nn.Sequential(\n",
        "        #nn.Linear(225*8, 1024),\n",
        "        #nn.Dropout(p=p),\n",
        "        #nn.ReLU(),\n",
        "        #nn.Linear(1024, 256),\n",
        "        nn.Linear(196*8, 256),\n",
        "        nn.Dropout(p=p),\n",
        "        nn.ReLU(),\n",
        "        nn.Linear(256, 10)\n",
        "        #nn.Softmax()\n",
        "    )\n",
        "    self.br2 = nn.Sequential(\n",
        "        #nn.Linear(225*8, 1024),\n",
        "        #nn.Dropout(p=p),\n",
        "        #nn.ReLU(),\n",
        "        #nn.Linear(1024, 256),\n",
        "        nn.Linear(196*8, 256),\n",
        "        nn.Dropout(p=p),\n",
        "        nn.ReLU(),\n",
        "        nn.Linear(256, 10)\n",
        "        #nn.Softmax()\n",
        "    )\n",
        "\n",
        "  def forward(self, X):\n",
        "    hinter = self.net_common(X)\n",
        "    hflat = hinter.view(hinter.size(0), -1)\n",
        "    o1 = self.br1(hflat)\n",
        "    o2 = self.br2(hflat)\n",
        "    #pred = torch.argmax(o1,dim=1)\n",
        "    #print(o1.shape, o2.shape, torch.cat([o1, o2], 1).shape)\n",
        "    C = torch.stack([o1,o2], dim=1)\n",
        "    return C\n",
        "\n",
        "net = FFN_VC_Classifier(0.3)  \n",
        "\n",
        "def evaluation(dataloader):\n",
        "    #total, correct = 0, 0\n",
        "    total, c1, c2, correct = 0, 0, 0, 0\n",
        "    for data in dataloader:\n",
        "        inputs, labels = data\n",
        "        #print('eval...\\n',np.shape(inputs),np.shape(labels))\n",
        "        #inputs = inputs.reshape([inputs.shape[0],1,4096])\n",
        "        outputs = net(inputs)\n",
        "        o1 = torch.argmax(outputs[:,0,:], dim=1)\n",
        "        o2 = torch.argmax(outputs[:,1,:], dim=1)\n",
        "        l1 = torch.argmax(labels[:,0,:], dim=1)\n",
        "        l2 = torch.argmax(labels[:,1,:], dim=1)\n",
        "        #print(np.shape(o1),np.shape(o2),np.shape(l1),np.shape(l2))\n",
        "        #_, pred = torch.max(outputs.data, 2)\n",
        "        \n",
        "        total += labels.size(0)\n",
        "        c1 += np.sum(o1.numpy() == l1.numpy())\n",
        "        c2 += np.sum(o2.numpy() == l2.numpy())\n",
        "        \n",
        "    correct = c1 + c2\n",
        "    return 100 * correct / total\n",
        "\n",
        "\n",
        "loss_fn = nn.CrossEntropyLoss()\n",
        "opt = optim.Adam(net.parameters(), lr=0.0001)\n",
        "#opt = optim.SGD(net.parameters(), lr=0.001, momentum=0.95)\n",
        "loss_arr = []\n",
        "loss_epoch_arr = []\n",
        "max_epochs = 20\n",
        "min_loss = 1000\n",
        "for epoch in range(max_epochs):\n",
        "    for i, data in enumerate(train_loader, 0):\n",
        "        inputs, labels = data\n",
        "        #inputs = inputs.reshape([inputs.shape[0],1,4096])\n",
        "        opt.zero_grad()\n",
        "        \n",
        "        outputs = net(inputs)\n",
        "        #print(outputs.shape)\n",
        "        o1 = outputs[:,0,:]\n",
        "        o2 = outputs[:,1,:]\n",
        "        labels_long = torch.tensor(labels, dtype=torch.long)\n",
        "        loss1 = loss_fn(o1, torch.argmax(labels_long[:,0,:], dim=1))\n",
        "        loss2 = loss_fn(o2, torch.argmax(labels_long[:,1,:], dim=1))\n",
        "        tot_loss = loss1 + loss2\n",
        "        if tot_loss < min_loss:\n",
        "            min_loss = tot_loss\n",
        "        #print(tot_loss)\n",
        "        #loss = loss_fn(outputs, labels)\n",
        "        tot_loss.backward()\n",
        "        opt.step()\n",
        "        \n",
        "        loss_arr.append(tot_loss.item())\n",
        "        del inputs, labels, outputs, o1, o2\n",
        "        torch.cuda.empty_cache()\n",
        "    print(tot_loss)\n",
        "    loss_epoch_arr.append(tot_loss.item())\n",
        "    \n",
        "    with torch.no_grad():\n",
        "      net.eval()\n",
        "      print('Epoch: %d/%d, Test acc: %0.2f, Train acc: %0.2f' % (epoch, max_epochs, evaluation(validation_loader), evaluation(train_loader)))\n",
        "      net.train()\n",
        "    \n",
        "plt.plot(loss_epoch_arr)\n",
        "plt.show()\n"
      ],
      "execution_count": 23,
      "outputs": [
        {
          "output_type": "stream",
          "text": [
            "__init__\n",
            "Num files =  10000\n",
            "{'C0': 0, 'C1': 1, 'C2': 2, 'C3': 3, 'C4': 4, 'C5': 5, 'C6': 6, 'C7': 7, 'C8': 8, 'C9': 9, 'V0': 10, 'V1': 11, 'V2': 12, 'V3': 13, 'V4': 14, 'V5': 15, 'V6': 16, 'V7': 17, 'V8': 18, 'V9': 19}\n",
            "8000 2000\n"
          ],
          "name": "stdout"
        },
        {
          "output_type": "stream",
          "text": [
            "/usr/local/lib/python3.6/dist-packages/ipykernel_launcher.py:130: UserWarning: To copy construct from a tensor, it is recommended to use sourceTensor.clone().detach() or sourceTensor.clone().detach().requires_grad_(True), rather than torch.tensor(sourceTensor).\n"
          ],
          "name": "stderr"
        },
        {
          "output_type": "stream",
          "text": [
            "tensor(4.5830, grad_fn=<AddBackward0>)\n",
            "Epoch: 0/20, Test acc: 27.75, Train acc: 30.45\n",
            "tensor(4.3220, grad_fn=<AddBackward0>)\n",
            "Epoch: 1/20, Test acc: 31.75, Train acc: 35.16\n",
            "tensor(4.3451, grad_fn=<AddBackward0>)\n",
            "Epoch: 2/20, Test acc: 34.70, Train acc: 37.11\n",
            "tensor(4.1879, grad_fn=<AddBackward0>)\n",
            "Epoch: 3/20, Test acc: 36.20, Train acc: 42.36\n",
            "tensor(4.2646, grad_fn=<AddBackward0>)\n",
            "Epoch: 4/20, Test acc: 38.00, Train acc: 44.77\n",
            "tensor(4.0856, grad_fn=<AddBackward0>)\n",
            "Epoch: 5/20, Test acc: 41.55, Train acc: 48.42\n",
            "tensor(3.9345, grad_fn=<AddBackward0>)\n",
            "Epoch: 6/20, Test acc: 41.35, Train acc: 50.45\n",
            "tensor(4.1307, grad_fn=<AddBackward0>)\n",
            "Epoch: 7/20, Test acc: 42.85, Train acc: 50.99\n",
            "tensor(4.0875, grad_fn=<AddBackward0>)\n",
            "Epoch: 8/20, Test acc: 47.85, Train acc: 57.88\n",
            "tensor(3.9661, grad_fn=<AddBackward0>)\n",
            "Epoch: 9/20, Test acc: 49.55, Train acc: 60.42\n",
            "tensor(3.5580, grad_fn=<AddBackward0>)\n",
            "Epoch: 10/20, Test acc: 51.95, Train acc: 61.95\n",
            "tensor(3.6013, grad_fn=<AddBackward0>)\n",
            "Epoch: 11/20, Test acc: 54.15, Train acc: 64.11\n",
            "tensor(3.8370, grad_fn=<AddBackward0>)\n",
            "Epoch: 12/20, Test acc: 57.35, Train acc: 67.90\n",
            "tensor(3.9786, grad_fn=<AddBackward0>)\n",
            "Epoch: 13/20, Test acc: 60.30, Train acc: 71.62\n",
            "tensor(3.5603, grad_fn=<AddBackward0>)\n",
            "Epoch: 14/20, Test acc: 61.35, Train acc: 73.97\n",
            "tensor(3.3190, grad_fn=<AddBackward0>)\n",
            "Epoch: 15/20, Test acc: 62.35, Train acc: 75.39\n",
            "tensor(3.5080, grad_fn=<AddBackward0>)\n",
            "Epoch: 16/20, Test acc: 63.55, Train acc: 78.05\n",
            "tensor(3.2924, grad_fn=<AddBackward0>)\n",
            "Epoch: 17/20, Test acc: 67.45, Train acc: 82.67\n",
            "tensor(3.3173, grad_fn=<AddBackward0>)\n",
            "Epoch: 18/20, Test acc: 69.20, Train acc: 85.47\n",
            "tensor(3.5175, grad_fn=<AddBackward0>)\n",
            "Epoch: 19/20, Test acc: 69.60, Train acc: 86.14\n"
          ],
          "name": "stdout"
        },
        {
          "output_type": "display_data",
          "data": {
            "image/png": "[encoded data removed]",
            "text/plain": [
              "<Figure size 432x288 with 1 Axes>"
            ]
          },
          "metadata": {
            "tags": []
          }
        },
        {
          "output_type": "stream",
          "text": [
            "CPU times: user 32min 2s, sys: 37.6 s, total: 32min 39s\n",
            "Wall time: 32min 44s\n"
          ],
          "name": "stdout"
        }
      ]
    },
    {
      "cell_type": "code",
      "metadata": {
        "colab_type": "code",
        "id": "Uzv8q9j63A_L",
        "outputId": "29d80f4c-00d3-4527-c97e-955766da22bd",
        "colab": {
          "base_uri": "https://localhost:8080/",
          "height": 486
        }
      },
      "source": [
        "import pandas as pd\n",
        "test_data = VowelConsonantDataset(\"./competition_CNN/hindi/input/test/test\",train=False,transform=transform)\n",
        "b_s = 20\n",
        "test_loader = torch.utils.data.DataLoader(test_data, batch_size=b_s,shuffle=False)\n",
        "\n",
        "with torch.no_grad():\n",
        "  net.eval()\n",
        "submission_df = pd.read_csv('../competition_CNN/hindi/input/sample_submission.csv')\n",
        "for d in test_loader:\n",
        "    inputs, fn = d\n",
        "    #inputs, labels = d\n",
        "    #inputs = inputs.reshape([len(inputs),1,4096])\n",
        "    outputs = net(inputs)\n",
        "    o1 = torch.argmax(outputs[:,0,:], dim=1)\n",
        "    o2 = torch.argmax(outputs[:,1,:], dim=1)\n",
        "    olc = ['C']*b_s\n",
        "    olv = ['V']*b_s\n",
        "    ol = [\"{}{}_{}{}\".format(a_, b_, c_, d_) for a_, b_, c_, d_ in zip(olv,o2,olc,o1)]\n",
        "    i = 0\n",
        "    for name in fn:\n",
        "        j = int(name.split('.')[0])\n",
        "        submission_df.iat[j-1, 1] = ol[i]\n",
        "        i += 1\n",
        "submission_df.to_csv('./out.csv', index=False)    \n"
      ],
      "execution_count": 24,
      "outputs": [
        {
          "output_type": "stream",
          "text": [
            "__init__\n",
            "Num files =  10000\n"
          ],
          "name": "stdout"
        },
        {
          "output_type": "error",
          "ename": "FileNotFoundError",
          "evalue": "ignored",
          "traceback": [
            "\u001b[0;31m---------------------------------------------------------------------------\u001b[0m",
            "\u001b[0;31mFileNotFoundError\u001b[0m                         Traceback (most recent call last)",
            "\u001b[0;32m<ipython-input-24-74e4c9047d3f>\u001b[0m in \u001b[0;36m<module>\u001b[0;34m()\u001b[0m\n\u001b[1;32m      4\u001b[0m \u001b[0mtest_loader\u001b[0m \u001b[0;34m=\u001b[0m \u001b[0mtorch\u001b[0m\u001b[0;34m.\u001b[0m\u001b[0mutils\u001b[0m\u001b[0;34m.\u001b[0m\u001b[0mdata\u001b[0m\u001b[0;34m.\u001b[0m\u001b[0mDataLoader\u001b[0m\u001b[0;34m(\u001b[0m\u001b[0mtest_data\u001b[0m\u001b[0;34m,\u001b[0m \u001b[0mbatch_size\u001b[0m\u001b[0;34m=\u001b[0m\u001b[0mb_s\u001b[0m\u001b[0;34m,\u001b[0m\u001b[0mshuffle\u001b[0m\u001b[0;34m=\u001b[0m\u001b[0;32mFalse\u001b[0m\u001b[0;34m)\u001b[0m\u001b[0;34m\u001b[0m\u001b[0;34m\u001b[0m\u001b[0m\n\u001b[1;32m      5\u001b[0m \u001b[0;34m\u001b[0m\u001b[0m\n\u001b[0;32m----> 6\u001b[0;31m \u001b[0msubmission_df\u001b[0m \u001b[0;34m=\u001b[0m \u001b[0mpd\u001b[0m\u001b[0;34m.\u001b[0m\u001b[0mread_csv\u001b[0m\u001b[0;34m(\u001b[0m\u001b[0;34m'../input/sample_submission.csv'\u001b[0m\u001b[0;34m)\u001b[0m\u001b[0;34m\u001b[0m\u001b[0;34m\u001b[0m\u001b[0m\n\u001b[0m\u001b[1;32m      7\u001b[0m \u001b[0;32mfor\u001b[0m \u001b[0md\u001b[0m \u001b[0;32min\u001b[0m \u001b[0mtest_loader\u001b[0m\u001b[0;34m:\u001b[0m\u001b[0;34m\u001b[0m\u001b[0;34m\u001b[0m\u001b[0m\n\u001b[1;32m      8\u001b[0m     \u001b[0minputs\u001b[0m\u001b[0;34m,\u001b[0m \u001b[0mfn\u001b[0m \u001b[0;34m=\u001b[0m \u001b[0md\u001b[0m\u001b[0;34m\u001b[0m\u001b[0;34m\u001b[0m\u001b[0m\n",
            "\u001b[0;32m/usr/local/lib/python3.6/dist-packages/pandas/io/parsers.py\u001b[0m in \u001b[0;36mparser_f\u001b[0;34m(filepath_or_buffer, sep, delimiter, header, names, index_col, usecols, squeeze, prefix, mangle_dupe_cols, dtype, engine, converters, true_values, false_values, skipinitialspace, skiprows, skipfooter, nrows, na_values, keep_default_na, na_filter, verbose, skip_blank_lines, parse_dates, infer_datetime_format, keep_date_col, date_parser, dayfirst, iterator, chunksize, compression, thousands, decimal, lineterminator, quotechar, quoting, doublequote, escapechar, comment, encoding, dialect, tupleize_cols, error_bad_lines, warn_bad_lines, delim_whitespace, low_memory, memory_map, float_precision)\u001b[0m\n\u001b[1;32m    700\u001b[0m                     skip_blank_lines=skip_blank_lines)\n\u001b[1;32m    701\u001b[0m \u001b[0;34m\u001b[0m\u001b[0m\n\u001b[0;32m--> 702\u001b[0;31m         \u001b[0;32mreturn\u001b[0m \u001b[0m_read\u001b[0m\u001b[0;34m(\u001b[0m\u001b[0mfilepath_or_buffer\u001b[0m\u001b[0;34m,\u001b[0m \u001b[0mkwds\u001b[0m\u001b[0;34m)\u001b[0m\u001b[0;34m\u001b[0m\u001b[0;34m\u001b[0m\u001b[0m\n\u001b[0m\u001b[1;32m    703\u001b[0m \u001b[0;34m\u001b[0m\u001b[0m\n\u001b[1;32m    704\u001b[0m     \u001b[0mparser_f\u001b[0m\u001b[0;34m.\u001b[0m\u001b[0m__name__\u001b[0m \u001b[0;34m=\u001b[0m \u001b[0mname\u001b[0m\u001b[0;34m\u001b[0m\u001b[0;34m\u001b[0m\u001b[0m\n",
            "\u001b[0;32m/usr/local/lib/python3.6/dist-packages/pandas/io/parsers.py\u001b[0m in \u001b[0;36m_read\u001b[0;34m(filepath_or_buffer, kwds)\u001b[0m\n\u001b[1;32m    427\u001b[0m \u001b[0;34m\u001b[0m\u001b[0m\n\u001b[1;32m    428\u001b[0m     \u001b[0;31m# Create the parser.\u001b[0m\u001b[0;34m\u001b[0m\u001b[0;34m\u001b[0m\u001b[0;34m\u001b[0m\u001b[0m\n\u001b[0;32m--> 429\u001b[0;31m     \u001b[0mparser\u001b[0m \u001b[0;34m=\u001b[0m \u001b[0mTextFileReader\u001b[0m\u001b[0;34m(\u001b[0m\u001b[0mfilepath_or_buffer\u001b[0m\u001b[0;34m,\u001b[0m \u001b[0;34m**\u001b[0m\u001b[0mkwds\u001b[0m\u001b[0;34m)\u001b[0m\u001b[0;34m\u001b[0m\u001b[0;34m\u001b[0m\u001b[0m\n\u001b[0m\u001b[1;32m    430\u001b[0m \u001b[0;34m\u001b[0m\u001b[0m\n\u001b[1;32m    431\u001b[0m     \u001b[0;32mif\u001b[0m \u001b[0mchunksize\u001b[0m \u001b[0;32mor\u001b[0m \u001b[0miterator\u001b[0m\u001b[0;34m:\u001b[0m\u001b[0;34m\u001b[0m\u001b[0;34m\u001b[0m\u001b[0m\n",
            "\u001b[0;32m/usr/local/lib/python3.6/dist-packages/pandas/io/parsers.py\u001b[0m in \u001b[0;36m__init__\u001b[0;34m(self, f, engine, **kwds)\u001b[0m\n\u001b[1;32m    893\u001b[0m             \u001b[0mself\u001b[0m\u001b[0;34m.\u001b[0m\u001b[0moptions\u001b[0m\u001b[0;34m[\u001b[0m\u001b[0;34m'has_index_names'\u001b[0m\u001b[0;34m]\u001b[0m \u001b[0;34m=\u001b[0m \u001b[0mkwds\u001b[0m\u001b[0;34m[\u001b[0m\u001b[0;34m'has_index_names'\u001b[0m\u001b[0;34m]\u001b[0m\u001b[0;34m\u001b[0m\u001b[0;34m\u001b[0m\u001b[0m\n\u001b[1;32m    894\u001b[0m \u001b[0;34m\u001b[0m\u001b[0m\n\u001b[0;32m--> 895\u001b[0;31m         \u001b[0mself\u001b[0m\u001b[0;34m.\u001b[0m\u001b[0m_make_engine\u001b[0m\u001b[0;34m(\u001b[0m\u001b[0mself\u001b[0m\u001b[0;34m.\u001b[0m\u001b[0mengine\u001b[0m\u001b[0;34m)\u001b[0m\u001b[0;34m\u001b[0m\u001b[0;34m\u001b[0m\u001b[0m\n\u001b[0m\u001b[1;32m    896\u001b[0m \u001b[0;34m\u001b[0m\u001b[0m\n\u001b[1;32m    897\u001b[0m     \u001b[0;32mdef\u001b[0m \u001b[0mclose\u001b[0m\u001b[0;34m(\u001b[0m\u001b[0mself\u001b[0m\u001b[0;34m)\u001b[0m\u001b[0;34m:\u001b[0m\u001b[0;34m\u001b[0m\u001b[0;34m\u001b[0m\u001b[0m\n",
            "\u001b[0;32m/usr/local/lib/python3.6/dist-packages/pandas/io/parsers.py\u001b[0m in \u001b[0;36m_make_engine\u001b[0;34m(self, engine)\u001b[0m\n\u001b[1;32m   1120\u001b[0m     \u001b[0;32mdef\u001b[0m \u001b[0m_make_engine\u001b[0m\u001b[0;34m(\u001b[0m\u001b[0mself\u001b[0m\u001b[0;34m,\u001b[0m \u001b[0mengine\u001b[0m\u001b[0;34m=\u001b[0m\u001b[0;34m'c'\u001b[0m\u001b[0;34m)\u001b[0m\u001b[0;34m:\u001b[0m\u001b[0;34m\u001b[0m\u001b[0;34m\u001b[0m\u001b[0m\n\u001b[1;32m   1121\u001b[0m         \u001b[0;32mif\u001b[0m \u001b[0mengine\u001b[0m \u001b[0;34m==\u001b[0m \u001b[0;34m'c'\u001b[0m\u001b[0;34m:\u001b[0m\u001b[0;34m\u001b[0m\u001b[0;34m\u001b[0m\u001b[0m\n\u001b[0;32m-> 1122\u001b[0;31m             \u001b[0mself\u001b[0m\u001b[0;34m.\u001b[0m\u001b[0m_engine\u001b[0m \u001b[0;34m=\u001b[0m \u001b[0mCParserWrapper\u001b[0m\u001b[0;34m(\u001b[0m\u001b[0mself\u001b[0m\u001b[0;34m.\u001b[0m\u001b[0mf\u001b[0m\u001b[0;34m,\u001b[0m \u001b[0;34m**\u001b[0m\u001b[0mself\u001b[0m\u001b[0;34m.\u001b[0m\u001b[0moptions\u001b[0m\u001b[0;34m)\u001b[0m\u001b[0;34m\u001b[0m\u001b[0;34m\u001b[0m\u001b[0m\n\u001b[0m\u001b[1;32m   1123\u001b[0m         \u001b[0;32melse\u001b[0m\u001b[0;34m:\u001b[0m\u001b[0;34m\u001b[0m\u001b[0;34m\u001b[0m\u001b[0m\n\u001b[1;32m   1124\u001b[0m             \u001b[0;32mif\u001b[0m \u001b[0mengine\u001b[0m \u001b[0;34m==\u001b[0m \u001b[0;34m'python'\u001b[0m\u001b[0;34m:\u001b[0m\u001b[0;34m\u001b[0m\u001b[0;34m\u001b[0m\u001b[0m\n",
            "\u001b[0;32m/usr/local/lib/python3.6/dist-packages/pandas/io/parsers.py\u001b[0m in \u001b[0;36m__init__\u001b[0;34m(self, src, **kwds)\u001b[0m\n\u001b[1;32m   1851\u001b[0m         \u001b[0mkwds\u001b[0m\u001b[0;34m[\u001b[0m\u001b[0;34m'usecols'\u001b[0m\u001b[0;34m]\u001b[0m \u001b[0;34m=\u001b[0m \u001b[0mself\u001b[0m\u001b[0;34m.\u001b[0m\u001b[0musecols\u001b[0m\u001b[0;34m\u001b[0m\u001b[0;34m\u001b[0m\u001b[0m\n\u001b[1;32m   1852\u001b[0m \u001b[0;34m\u001b[0m\u001b[0m\n\u001b[0;32m-> 1853\u001b[0;31m         \u001b[0mself\u001b[0m\u001b[0;34m.\u001b[0m\u001b[0m_reader\u001b[0m \u001b[0;34m=\u001b[0m \u001b[0mparsers\u001b[0m\u001b[0;34m.\u001b[0m\u001b[0mTextReader\u001b[0m\u001b[0;34m(\u001b[0m\u001b[0msrc\u001b[0m\u001b[0;34m,\u001b[0m \u001b[0;34m**\u001b[0m\u001b[0mkwds\u001b[0m\u001b[0;34m)\u001b[0m\u001b[0;34m\u001b[0m\u001b[0;34m\u001b[0m\u001b[0m\n\u001b[0m\u001b[1;32m   1854\u001b[0m         \u001b[0mself\u001b[0m\u001b[0;34m.\u001b[0m\u001b[0munnamed_cols\u001b[0m \u001b[0;34m=\u001b[0m \u001b[0mself\u001b[0m\u001b[0;34m.\u001b[0m\u001b[0m_reader\u001b[0m\u001b[0;34m.\u001b[0m\u001b[0munnamed_cols\u001b[0m\u001b[0;34m\u001b[0m\u001b[0;34m\u001b[0m\u001b[0m\n\u001b[1;32m   1855\u001b[0m \u001b[0;34m\u001b[0m\u001b[0m\n",
            "\u001b[0;32mpandas/_libs/parsers.pyx\u001b[0m in \u001b[0;36mpandas._libs.parsers.TextReader.__cinit__\u001b[0;34m()\u001b[0m\n",
            "\u001b[0;32mpandas/_libs/parsers.pyx\u001b[0m in \u001b[0;36mpandas._libs.parsers.TextReader._setup_parser_source\u001b[0;34m()\u001b[0m\n",
            "\u001b[0;31mFileNotFoundError\u001b[0m: [Errno 2] File b'../input/sample_submission.csv' does not exist: b'../input/sample_submission.csv'"
          ]
        }
      ]
    },
    {
      "cell_type": "code",
      "metadata": {
        "colab_type": "code",
        "id": "l0HVEsRCBvjb",
        "colab": {}
      },
      "source": [
        ""
      ],
      "execution_count": 0,
      "outputs": []
    }
  ]
}